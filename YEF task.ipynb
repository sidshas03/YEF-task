{
 "cells": [
  {
   "cell_type": "code",
   "execution_count": 5,
   "metadata": {},
   "outputs": [
    {
     "name": "stdout",
     "output_type": "stream",
     "text": [
      "[129, 132, 219, 236, 296, 314, 327, 355, 373, 413]\n"
     ]
    }
   ],
   "source": [
    "import random \n",
    " \n",
    "def createRandomSortedList(num, start = -1, end = 500): \n",
    "    arr = [] \n",
    "    tmp = random.randint(start, end) \n",
    "      \n",
    "    for x in range(num): \n",
    "          \n",
    "        while tmp in arr: \n",
    "            tmp = random.randint(start, end) \n",
    "              \n",
    "        arr.append(tmp) \n",
    "          \n",
    "    arr.sort() \n",
    "      \n",
    "    return arr \n",
    "   \n",
    "\n",
    "print(createRandomSortedList(10, -1, 500)) \n"
   ]
  },
  {
   "cell_type": "code",
   "execution_count": null,
   "metadata": {},
   "outputs": [],
   "source": []
  }
 ],
 "metadata": {
  "kernelspec": {
   "display_name": "Python 3",
   "language": "python",
   "name": "python3"
  },
  "language_info": {
   "codemirror_mode": {
    "name": "ipython",
    "version": 3
   },
   "file_extension": ".py",
   "mimetype": "text/x-python",
   "name": "python",
   "nbconvert_exporter": "python",
   "pygments_lexer": "ipython3",
   "version": "3.8.3"
  }
 },
 "nbformat": 4,
 "nbformat_minor": 4
}
